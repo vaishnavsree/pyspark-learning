{
 "cells": [
  {
   "cell_type": "code",
   "execution_count": 1,
   "id": "829e836e",
   "metadata": {},
   "outputs": [
    {
     "data": {
      "text/html": [
       "\n",
       "            <div>\n",
       "                <p><b>SparkSession - in-memory</b></p>\n",
       "                \n",
       "        <div>\n",
       "            <p><b>SparkContext</b></p>\n",
       "\n",
       "            <p><a href=\"http://DESKTOP-GJO91CV:4040\">Spark UI</a></p>\n",
       "\n",
       "            <dl>\n",
       "              <dt>Version</dt>\n",
       "                <dd><code>v3.2.0</code></dd>\n",
       "              <dt>Master</dt>\n",
       "                <dd><code>local[*]</code></dd>\n",
       "              <dt>AppName</dt>\n",
       "                <dd><code>Handling-Missing-Values</code></dd>\n",
       "            </dl>\n",
       "        </div>\n",
       "        \n",
       "            </div>\n",
       "        "
      ],
      "text/plain": [
       "<pyspark.sql.session.SparkSession at 0x1d814fdebb0>"
      ]
     },
     "execution_count": 1,
     "metadata": {},
     "output_type": "execute_result"
    }
   ],
   "source": [
    "import pyspark\n",
    "from pyspark.sql import SparkSession\n",
    "\n",
    "spark = SparkSession.builder.appName('Handling-Missing-Values').getOrCreate()\n",
    "spark"
   ]
  },
  {
   "cell_type": "code",
   "execution_count": 2,
   "id": "5018633a",
   "metadata": {},
   "outputs": [],
   "source": [
    "df_pyspark = spark.read.csv('test2.csv',inferSchema=True,header=True)"
   ]
  },
  {
   "cell_type": "code",
   "execution_count": 3,
   "id": "d9d59fdf",
   "metadata": {},
   "outputs": [
    {
     "name": "stdout",
     "output_type": "stream",
     "text": [
      "+---------+----+----------+------+\n",
      "|     Name| Age|Experience|Salary|\n",
      "+---------+----+----------+------+\n",
      "| Vaishnav|  24|        10| 50000|\n",
      "|  Vaisakh|  13|         8| 40000|\n",
      "|    Deepa|  46|         6| 30000|\n",
      "|Sreekumar|  54|         4| 20000|\n",
      "|   Kannan|null|      null| 10000|\n",
      "|     null|  25|         2| 15000|\n",
      "|     null|  36|      null|  null|\n",
      "+---------+----+----------+------+\n",
      "\n"
     ]
    }
   ],
   "source": [
    "df_pyspark.show()"
   ]
  },
  {
   "cell_type": "code",
   "execution_count": 4,
   "id": "7f3a47f8",
   "metadata": {},
   "outputs": [
    {
     "name": "stdout",
     "output_type": "stream",
     "text": [
      "+---------+---+----------+------+\n",
      "|     Name|Age|Experience|Salary|\n",
      "+---------+---+----------+------+\n",
      "| Vaishnav| 24|        10| 50000|\n",
      "|  Vaisakh| 13|         8| 40000|\n",
      "|    Deepa| 46|         6| 30000|\n",
      "|Sreekumar| 54|         4| 20000|\n",
      "+---------+---+----------+------+\n",
      "\n"
     ]
    }
   ],
   "source": [
    "#Drop rows which contain NA/null value in any of its data\n",
    "\n",
    "df_pyspark.na.drop().show()"
   ]
  },
  {
   "cell_type": "code",
   "execution_count": 5,
   "id": "9522ccb1",
   "metadata": {},
   "outputs": [
    {
     "name": "stdout",
     "output_type": "stream",
     "text": [
      "+---------+---+----------+------+\n",
      "|     Name|Age|Experience|Salary|\n",
      "+---------+---+----------+------+\n",
      "| Vaishnav| 24|        10| 50000|\n",
      "|  Vaisakh| 13|         8| 40000|\n",
      "|    Deepa| 46|         6| 30000|\n",
      "|Sreekumar| 54|         4| 20000|\n",
      "+---------+---+----------+------+\n",
      "\n"
     ]
    }
   ],
   "source": [
    "#There are different arguments that can be passed onto drop function.\n",
    "#how() -> Default option is any; ie, if a row contains atleast one NA or null value, it will remove that particular row.\n",
    "#         Other option is all; ie , if a row has all its value as NA or null value, it will remove that particular row.\n",
    "\n",
    "df_pyspark.na.drop(how='any').show()"
   ]
  },
  {
   "cell_type": "code",
   "execution_count": 6,
   "id": "8fc8600b",
   "metadata": {},
   "outputs": [
    {
     "name": "stdout",
     "output_type": "stream",
     "text": [
      "+---------+----+----------+------+\n",
      "|     Name| Age|Experience|Salary|\n",
      "+---------+----+----------+------+\n",
      "| Vaishnav|  24|        10| 50000|\n",
      "|  Vaisakh|  13|         8| 40000|\n",
      "|    Deepa|  46|         6| 30000|\n",
      "|Sreekumar|  54|         4| 20000|\n",
      "|   Kannan|null|      null| 10000|\n",
      "|     null|  25|         2| 15000|\n",
      "+---------+----+----------+------+\n",
      "\n"
     ]
    }
   ],
   "source": [
    "#Second argument that can be passed to drop() is thresh\n",
    "#This checks for how many non-null values should be present. ie thresh=2 means the row should contain atleast 2 non-null values\n",
    "\n",
    "df_pyspark.na.drop(how='any',thresh=2).show()"
   ]
  },
  {
   "cell_type": "code",
   "execution_count": 7,
   "id": "b9fd7daf",
   "metadata": {},
   "outputs": [
    {
     "name": "stdout",
     "output_type": "stream",
     "text": [
      "+---------+---+----------+------+\n",
      "|     Name|Age|Experience|Salary|\n",
      "+---------+---+----------+------+\n",
      "| Vaishnav| 24|        10| 50000|\n",
      "|  Vaisakh| 13|         8| 40000|\n",
      "|    Deepa| 46|         6| 30000|\n",
      "|Sreekumar| 54|         4| 20000|\n",
      "|     null| 25|         2| 15000|\n",
      "+---------+---+----------+------+\n",
      "\n"
     ]
    }
   ],
   "source": [
    "#Third argument that can be passed to drop() is subset\n",
    "#This is kind of a filter. for eg: subset='column_name' means it will remove all rows which contains null value in the column_name column\n",
    "\n",
    "df_pyspark.na.drop(how='any',subset='Experience').show()"
   ]
  },
  {
   "cell_type": "code",
   "execution_count": 9,
   "id": "dd621b35",
   "metadata": {},
   "outputs": [
    {
     "name": "stdout",
     "output_type": "stream",
     "text": [
      "+---------+----+----------+------+\n",
      "|     Name| Age|Experience|Salary|\n",
      "+---------+----+----------+------+\n",
      "| Vaishnav|  24|        10| 50000|\n",
      "|  Vaisakh|  13|         8| 40000|\n",
      "|    Deepa|  46|         6| 30000|\n",
      "|Sreekumar|  54|         4| 20000|\n",
      "|   Kannan|null|      null| 10000|\n",
      "|     null|  25|         2| 15000|\n",
      "|     null|  36|      null|  null|\n",
      "+---------+----+----------+------+\n",
      "\n"
     ]
    }
   ],
   "source": [
    "#Filling missing values\n",
    "\n",
    "df_pyspark.na.fill(value='Missing',subset='Experience').show()"
   ]
  },
  {
   "cell_type": "code",
   "execution_count": 10,
   "id": "2e0625cd",
   "metadata": {},
   "outputs": [
    {
     "name": "stdout",
     "output_type": "stream",
     "text": [
      "+---------+----+----------+------+\n",
      "|     Name| Age|Experience|Salary|\n",
      "+---------+----+----------+------+\n",
      "| Vaishnav|  24|        10| 50000|\n",
      "|  Vaisakh|  13|         8| 40000|\n",
      "|    Deepa|  46|         6| 30000|\n",
      "|Sreekumar|  54|         4| 20000|\n",
      "|   Kannan|null|      null| 10000|\n",
      "|     null|  25|         2| 15000|\n",
      "|     null|  36|      null|  null|\n",
      "+---------+----+----------+------+\n",
      "\n"
     ]
    }
   ],
   "source": [
    "df_pyspark.show()"
   ]
  },
  {
   "cell_type": "code",
   "execution_count": 17,
   "id": "9b88cb31",
   "metadata": {},
   "outputs": [],
   "source": [
    "#Filling null value with mean, median or mode.\n",
    "#Here we will be using imputer functions\n",
    "\n",
    "from pyspark.ml.feature import Imputer\n",
    "\n",
    "imputer = Imputer(inputCols=['Age','Experience','Salary'],\n",
    "                  outputCols= ['Imputed_{}'.format(c) for c in ['Age','Experience','Salary']]\n",
    "                 ).setStrategy('median')"
   ]
  },
  {
   "cell_type": "code",
   "execution_count": 18,
   "id": "9da0e282",
   "metadata": {},
   "outputs": [
    {
     "name": "stdout",
     "output_type": "stream",
     "text": [
      "+---------+----+----------+------+-----------+------------------+--------------+\n",
      "|     Name| Age|Experience|Salary|Imputed_Age|Imputed_Experience|Imputed_Salary|\n",
      "+---------+----+----------+------+-----------+------------------+--------------+\n",
      "| Vaishnav|  24|        10| 50000|         24|                10|         50000|\n",
      "|  Vaisakh|  13|         8| 40000|         13|                 8|         40000|\n",
      "|    Deepa|  46|         6| 30000|         46|                 6|         30000|\n",
      "|Sreekumar|  54|         4| 20000|         54|                 4|         20000|\n",
      "|   Kannan|null|      null| 10000|         25|                 6|         10000|\n",
      "|     null|  25|         2| 15000|         25|                 2|         15000|\n",
      "|     null|  36|      null|  null|         36|                 6|         20000|\n",
      "+---------+----+----------+------+-----------+------------------+--------------+\n",
      "\n"
     ]
    }
   ],
   "source": [
    "#Adding imputed columns to Dataframe\n",
    "\n",
    "imputer.fit(df_pyspark).transform(df_pyspark).show()"
   ]
  },
  {
   "cell_type": "code",
   "execution_count": null,
   "id": "d01cd923",
   "metadata": {},
   "outputs": [],
   "source": []
  }
 ],
 "metadata": {
  "kernelspec": {
   "display_name": "Python 3 (ipykernel)",
   "language": "python",
   "name": "python3"
  },
  "language_info": {
   "codemirror_mode": {
    "name": "ipython",
    "version": 3
   },
   "file_extension": ".py",
   "mimetype": "text/x-python",
   "name": "python",
   "nbconvert_exporter": "python",
   "pygments_lexer": "ipython3",
   "version": "3.8.12"
  }
 },
 "nbformat": 4,
 "nbformat_minor": 5
}
