{
 "cells": [
  {
   "cell_type": "code",
   "execution_count": 2,
   "id": "aa1a6c0e",
   "metadata": {},
   "outputs": [],
   "source": [
    "import pyspark\n",
    "import pandas"
   ]
  },
  {
   "cell_type": "code",
   "execution_count": 4,
   "id": "7d1f3d5c",
   "metadata": {},
   "outputs": [],
   "source": [
    "from pyspark.sql import SparkSession\n",
    "spark = SparkSession.builder.appName('pyspark-dataframe-opeartions').getOrCreate()"
   ]
  },
  {
   "cell_type": "code",
   "execution_count": 6,
   "id": "c0fca8ac",
   "metadata": {},
   "outputs": [
    {
     "data": {
      "text/html": [
       "\n",
       "            <div>\n",
       "                <p><b>SparkSession - in-memory</b></p>\n",
       "                \n",
       "        <div>\n",
       "            <p><b>SparkContext</b></p>\n",
       "\n",
       "            <p><a href=\"http://DESKTOP-GJO91CV:4041\">Spark UI</a></p>\n",
       "\n",
       "            <dl>\n",
       "              <dt>Version</dt>\n",
       "                <dd><code>v3.2.0</code></dd>\n",
       "              <dt>Master</dt>\n",
       "                <dd><code>local[*]</code></dd>\n",
       "              <dt>AppName</dt>\n",
       "                <dd><code>pyspark-dataframe-opeartions</code></dd>\n",
       "            </dl>\n",
       "        </div>\n",
       "        \n",
       "            </div>\n",
       "        "
      ],
      "text/plain": [
       "<pyspark.sql.session.SparkSession at 0x1e825db8610>"
      ]
     },
     "execution_count": 6,
     "metadata": {},
     "output_type": "execute_result"
    }
   ],
   "source": [
    "spark"
   ]
  },
  {
   "cell_type": "code",
   "execution_count": 32,
   "id": "4cb43593",
   "metadata": {},
   "outputs": [],
   "source": [
    "#Read Dataset method 1\n",
    "\n",
    "df_pyspark1 = spark.read.csv('test1.csv',header=True,inferSchema=True)"
   ]
  },
  {
   "cell_type": "code",
   "execution_count": 33,
   "id": "55aa65cd",
   "metadata": {},
   "outputs": [
    {
     "name": "stdout",
     "output_type": "stream",
     "text": [
      "root\n",
      " |-- Name: string (nullable = true)\n",
      " |-- Age: integer (nullable = true)\n",
      " |-- Experience: integer (nullable = true)\n",
      "\n"
     ]
    }
   ],
   "source": [
    "#Getting DataFrame Schema\n",
    "\n",
    "df_pyspark1.printSchema()"
   ]
  },
  {
   "cell_type": "code",
   "execution_count": 30,
   "id": "cc5c444c",
   "metadata": {},
   "outputs": [],
   "source": [
    "#Read dataset method 2\n",
    "#This method will read the data as String. SO if we need to read integer values, add another argument to csv(); inferSchena=True\n",
    "\n",
    "df_pyspark2 = spark.read.option('header','true').csv('test1.csv',inferSchema=True)"
   ]
  },
  {
   "cell_type": "code",
   "execution_count": 31,
   "id": "cacff661",
   "metadata": {},
   "outputs": [
    {
     "name": "stdout",
     "output_type": "stream",
     "text": [
      "root\n",
      " |-- Name: string (nullable = true)\n",
      " |-- Age: integer (nullable = true)\n",
      " |-- Experience: integer (nullable = true)\n",
      "\n"
     ]
    }
   ],
   "source": [
    "df_pyspark2.printSchema()"
   ]
  },
  {
   "cell_type": "code",
   "execution_count": 34,
   "id": "293c3f43",
   "metadata": {},
   "outputs": [
    {
     "data": {
      "text/plain": [
       "['Name', 'Age', 'Experience']"
      ]
     },
     "execution_count": 34,
     "metadata": {},
     "output_type": "execute_result"
    }
   ],
   "source": [
    "#Get column names\n",
    "\n",
    "df_pyspark2.columns"
   ]
  },
  {
   "cell_type": "code",
   "execution_count": 35,
   "id": "0dfd78ea",
   "metadata": {},
   "outputs": [
    {
     "name": "stdout",
     "output_type": "stream",
     "text": [
      "+---------+\n",
      "|     Name|\n",
      "+---------+\n",
      "| Vaishnav|\n",
      "|  Vaisakh|\n",
      "|    Deepa|\n",
      "|Sreekumar|\n",
      "+---------+\n",
      "\n"
     ]
    }
   ],
   "source": [
    "#Reading data from a particular column\n",
    "\n",
    "df_pyspark2.select('Name').show()"
   ]
  },
  {
   "cell_type": "code",
   "execution_count": 37,
   "id": "1505d227",
   "metadata": {},
   "outputs": [
    {
     "name": "stdout",
     "output_type": "stream",
     "text": [
      "+---------+----------+\n",
      "|     Name|Experience|\n",
      "+---------+----------+\n",
      "| Vaishnav|        10|\n",
      "|  Vaisakh|         8|\n",
      "|    Deepa|         6|\n",
      "|Sreekumar|         4|\n",
      "+---------+----------+\n",
      "\n"
     ]
    }
   ],
   "source": [
    "#Reading data from multiple columns\n",
    "\n",
    "df_pyspark2.select(['Name','Experience']).show()"
   ]
  },
  {
   "cell_type": "code",
   "execution_count": 38,
   "id": "8b8e06a1",
   "metadata": {},
   "outputs": [
    {
     "data": {
      "text/plain": [
       "[('Name', 'string'), ('Age', 'int'), ('Experience', 'int')]"
      ]
     },
     "execution_count": 38,
     "metadata": {},
     "output_type": "execute_result"
    }
   ],
   "source": [
    "#Get Datatypes of column data\n",
    "\n",
    "df_pyspark2.dtypes"
   ]
  },
  {
   "cell_type": "code",
   "execution_count": 40,
   "id": "2b84278b",
   "metadata": {},
   "outputs": [
    {
     "name": "stdout",
     "output_type": "stream",
     "text": [
      "+-------+--------+------------------+-----------------+\n",
      "|summary|    Name|               Age|       Experience|\n",
      "+-------+--------+------------------+-----------------+\n",
      "|  count|       4|                 4|                4|\n",
      "|   mean|    null|             34.25|              7.0|\n",
      "| stddev|    null|19.015344680897407|2.581988897471611|\n",
      "|    min|   Deepa|                13|                4|\n",
      "|    max|Vaishnav|                54|               10|\n",
      "+-------+--------+------------------+-----------------+\n",
      "\n"
     ]
    }
   ],
   "source": [
    "#Describe option\n",
    "\n",
    "df_pyspark2.describe().show()"
   ]
  },
  {
   "cell_type": "code",
   "execution_count": 46,
   "id": "ef4262fe",
   "metadata": {},
   "outputs": [],
   "source": [
    "df_pyspark3 = df_pyspark2.withColumn('Experience after 2 years',df_pyspark2['Experience']+2)"
   ]
  },
  {
   "cell_type": "code",
   "execution_count": 48,
   "id": "4b875f09",
   "metadata": {},
   "outputs": [
    {
     "name": "stdout",
     "output_type": "stream",
     "text": [
      "+---------+---+----------+------------------------+\n",
      "|     Name|Age|Experience|Experience after 2 years|\n",
      "+---------+---+----------+------------------------+\n",
      "| Vaishnav| 24|        10|                      12|\n",
      "|  Vaisakh| 13|         8|                      10|\n",
      "|    Deepa| 46|         6|                       8|\n",
      "|Sreekumar| 54|         4|                       6|\n",
      "+---------+---+----------+------------------------+\n",
      "\n"
     ]
    }
   ],
   "source": [
    "df_pyspark3.show()"
   ]
  },
  {
   "cell_type": "code",
   "execution_count": 51,
   "id": "de4e83cf",
   "metadata": {},
   "outputs": [
    {
     "name": "stdout",
     "output_type": "stream",
     "text": [
      "+---------+---+----------+\n",
      "|     Name|Age|Experience|\n",
      "+---------+---+----------+\n",
      "| Vaishnav| 24|        10|\n",
      "|  Vaisakh| 13|         8|\n",
      "|    Deepa| 46|         6|\n",
      "|Sreekumar| 54|         4|\n",
      "+---------+---+----------+\n",
      "\n"
     ]
    }
   ],
   "source": [
    "#Drop column is not an inplace operation. So we need to assign it to a variable if we need to use it later\n",
    "\n",
    "df_pyspark3.drop('Experience after 2 years').show()"
   ]
  },
  {
   "cell_type": "code",
   "execution_count": 52,
   "id": "f7557a1a",
   "metadata": {},
   "outputs": [
    {
     "name": "stdout",
     "output_type": "stream",
     "text": [
      "+---------+---+----------+------------------------+\n",
      "| New Name|Age|Experience|Experience after 2 years|\n",
      "+---------+---+----------+------------------------+\n",
      "| Vaishnav| 24|        10|                      12|\n",
      "|  Vaisakh| 13|         8|                      10|\n",
      "|    Deepa| 46|         6|                       8|\n",
      "|Sreekumar| 54|         4|                       6|\n",
      "+---------+---+----------+------------------------+\n",
      "\n"
     ]
    }
   ],
   "source": [
    "#Rename column name\n",
    "\n",
    "df_pyspark3.withColumnRenamed('Name','New Name').show()"
   ]
  }
 ],
 "metadata": {
  "kernelspec": {
   "display_name": "Python 3 (ipykernel)",
   "language": "python",
   "name": "python3"
  },
  "language_info": {
   "codemirror_mode": {
    "name": "ipython",
    "version": 3
   },
   "file_extension": ".py",
   "mimetype": "text/x-python",
   "name": "python",
   "nbconvert_exporter": "python",
   "pygments_lexer": "ipython3",
   "version": "3.8.12"
  }
 },
 "nbformat": 4,
 "nbformat_minor": 5
}
