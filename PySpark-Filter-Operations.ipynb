{
 "cells": [
  {
   "cell_type": "code",
   "execution_count": 1,
   "id": "7de1c1bd",
   "metadata": {},
   "outputs": [
    {
     "data": {
      "text/html": [
       "\n",
       "            <div>\n",
       "                <p><b>SparkSession - in-memory</b></p>\n",
       "                \n",
       "        <div>\n",
       "            <p><b>SparkContext</b></p>\n",
       "\n",
       "            <p><a href=\"http://DESKTOP-GJO91CV:4040\">Spark UI</a></p>\n",
       "\n",
       "            <dl>\n",
       "              <dt>Version</dt>\n",
       "                <dd><code>v3.2.0</code></dd>\n",
       "              <dt>Master</dt>\n",
       "                <dd><code>local[*]</code></dd>\n",
       "              <dt>AppName</dt>\n",
       "                <dd><code>pyspark-filter-operations</code></dd>\n",
       "            </dl>\n",
       "        </div>\n",
       "        \n",
       "            </div>\n",
       "        "
      ],
      "text/plain": [
       "<pyspark.sql.session.SparkSession at 0x220cd466f70>"
      ]
     },
     "execution_count": 1,
     "metadata": {},
     "output_type": "execute_result"
    }
   ],
   "source": [
    "from pyspark.sql import SparkSession\n",
    "\n",
    "spark = SparkSession.builder.appName('pyspark-filter-operations').getOrCreate()\n",
    "spark"
   ]
  },
  {
   "cell_type": "code",
   "execution_count": 3,
   "id": "117a16ed",
   "metadata": {},
   "outputs": [
    {
     "name": "stdout",
     "output_type": "stream",
     "text": [
      "+---------+---+----------+------+\n",
      "|     Name|Age|Experience|Salary|\n",
      "+---------+---+----------+------+\n",
      "| Vaishnav| 24|        10| 50000|\n",
      "|  Vaisakh| 13|         8| 40000|\n",
      "|    Deepa| 46|         6| 30000|\n",
      "|Sreekumar| 54|         4| 20000|\n",
      "+---------+---+----------+------+\n",
      "\n"
     ]
    }
   ],
   "source": [
    "df_pyspark = spark.read.csv('test1.csv',inferSchema=True,header=True)\n",
    "df_pyspark.show()"
   ]
  },
  {
   "cell_type": "code",
   "execution_count": 4,
   "id": "2f768471",
   "metadata": {},
   "outputs": [
    {
     "name": "stdout",
     "output_type": "stream",
     "text": [
      "+---------+---+----------+------+\n",
      "|     Name|Age|Experience|Salary|\n",
      "+---------+---+----------+------+\n",
      "|    Deepa| 46|         6| 30000|\n",
      "|Sreekumar| 54|         4| 20000|\n",
      "+---------+---+----------+------+\n",
      "\n"
     ]
    }
   ],
   "source": [
    "#Filtering datas in pyspark Method 1\n",
    "\n",
    "df_pyspark.filter(\"Salary<=30000\").show()"
   ]
  },
  {
   "cell_type": "code",
   "execution_count": 5,
   "id": "49c14d5a",
   "metadata": {},
   "outputs": [
    {
     "name": "stdout",
     "output_type": "stream",
     "text": [
      "+---------+---+\n",
      "|     Name|Age|\n",
      "+---------+---+\n",
      "|    Deepa| 46|\n",
      "|Sreekumar| 54|\n",
      "+---------+---+\n",
      "\n"
     ]
    }
   ],
   "source": [
    "#If we want to select particular columns only after filtering, we can use select() option\n",
    "\n",
    "df_pyspark.filter(\"Salary<=30000\").select([\"Name\",\"Age\"]).show()"
   ]
  },
  {
   "cell_type": "code",
   "execution_count": 6,
   "id": "480d40fe",
   "metadata": {},
   "outputs": [
    {
     "name": "stdout",
     "output_type": "stream",
     "text": [
      "+---------+---+----------+------+\n",
      "|     Name|Age|Experience|Salary|\n",
      "+---------+---+----------+------+\n",
      "|    Deepa| 46|         6| 30000|\n",
      "|Sreekumar| 54|         4| 20000|\n",
      "+---------+---+----------+------+\n",
      "\n"
     ]
    }
   ],
   "source": [
    "#Filtering datas in pyspark Method 2\n",
    "\n",
    "df_pyspark.filter(df_pyspark['Salary']<=30000).show()"
   ]
  },
  {
   "cell_type": "code",
   "execution_count": 7,
   "id": "f8649369",
   "metadata": {},
   "outputs": [
    {
     "name": "stdout",
     "output_type": "stream",
     "text": [
      "+--------+---+----------+------+\n",
      "|    Name|Age|Experience|Salary|\n",
      "+--------+---+----------+------+\n",
      "|Vaishnav| 24|        10| 50000|\n",
      "| Vaisakh| 13|         8| 40000|\n",
      "+--------+---+----------+------+\n",
      "\n"
     ]
    }
   ],
   "source": [
    "#Filtering data based on multiple conditions\n",
    "\n",
    "df_pyspark.filter((df_pyspark['Salary']>=35000) & (df_pyspark['Age']<=30)).show()"
   ]
  },
  {
   "cell_type": "code",
   "execution_count": 10,
   "id": "cacac9fe",
   "metadata": {},
   "outputs": [
    {
     "name": "stdout",
     "output_type": "stream",
     "text": [
      "+--------+---+----------+------+\n",
      "|    Name|Age|Experience|Salary|\n",
      "+--------+---+----------+------+\n",
      "|Vaishnav| 24|        10| 50000|\n",
      "| Vaisakh| 13|         8| 40000|\n",
      "+--------+---+----------+------+\n",
      "\n"
     ]
    }
   ],
   "source": [
    "#Negation or Not operation (~)\n",
    "\n",
    "df_pyspark.filter(~(df_pyspark['Salary']<=30000)).show()"
   ]
  },
  {
   "cell_type": "code",
   "execution_count": null,
   "id": "9eaa5fd8",
   "metadata": {},
   "outputs": [],
   "source": []
  }
 ],
 "metadata": {
  "kernelspec": {
   "display_name": "Python 3 (ipykernel)",
   "language": "python",
   "name": "python3"
  },
  "language_info": {
   "codemirror_mode": {
    "name": "ipython",
    "version": 3
   },
   "file_extension": ".py",
   "mimetype": "text/x-python",
   "name": "python",
   "nbconvert_exporter": "python",
   "pygments_lexer": "ipython3",
   "version": "3.8.12"
  }
 },
 "nbformat": 4,
 "nbformat_minor": 5
}
